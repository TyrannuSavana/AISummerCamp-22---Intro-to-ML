{
  "nbformat": 4,
  "nbformat_minor": 0,
  "metadata": {
    "colab": {
      "name": "Linear Regression with Study Hours Dataset.ipynb",
      "provenance": []
    },
    "kernelspec": {
      "name": "python3",
      "display_name": "Python 3"
    },
    "language_info": {
      "name": "python"
    }
  },
  "cells": [
    {
      "cell_type": "markdown",
      "source": [
        "#Linear Regresssion with Study Hours Dataset"
      ],
      "metadata": {
        "id": "WrJUQ62IngAg"
      }
    },
    {
      "cell_type": "markdown",
      "source": [
        " ### 1) Import dataset and libraries\n",
        "\n",
        "\n",
        "\n",
        "\n"
      ],
      "metadata": {
        "id": "BGT2mLQ4ntaQ"
      }
    },
    {
      "cell_type": "markdown",
      "source": [
        "\"Study Hours\" Dataset: https://www.kaggle.com/datasets/himanshunakrani/student-study-hours"
      ],
      "metadata": {
        "id": "4-PmIAbZogKh"
      }
    },
    {
      "cell_type": "code",
      "execution_count": 35,
      "metadata": {
        "id": "ahuNp4NknZnM"
      },
      "outputs": [],
      "source": [
        "#Import libraries\n",
        "import pandas as pd\n",
        "import matplotlib.pyplot as plt #data visualization\n",
        "import sklearn.model_selection #test train splitting\n",
        "import numpy as np #data preparation\n",
        "import sklearn.linear_model #modelling\n",
        "import sklearn.metrics #model optimization"
      ]
    },
    {
      "cell_type": "code",
      "source": [
        "#Import dataset\n",
        "df = pd.read_csv('score.csv')"
      ],
      "metadata": {
        "id": "Femcxtu06dH9"
      },
      "execution_count": 2,
      "outputs": []
    },
    {
      "cell_type": "markdown",
      "source": [
        "### 2) Exploring the data"
      ],
      "metadata": {
        "id": "zlR1xnrr-BKv"
      }
    },
    {
      "cell_type": "code",
      "source": [
        "df.head()\n",
        "#There are two columns in the dataset named as 'Hours' and 'Scores'"
      ],
      "metadata": {
        "colab": {
          "base_uri": "https://localhost:8080/",
          "height": 206
        },
        "id": "K7G-XzTU6kVQ",
        "outputId": "ac29186a-449f-4986-d38f-8f5c8ff41052"
      },
      "execution_count": 4,
      "outputs": [
        {
          "output_type": "execute_result",
          "data": {
            "text/plain": [
              "   Hours  Scores\n",
              "0    2.5      21\n",
              "1    5.1      47\n",
              "2    3.2      27\n",
              "3    8.5      75\n",
              "4    3.5      30"
            ],
            "text/html": [
              "\n",
              "  <div id=\"df-8ade1baf-929b-494b-a966-66ac75a85fb4\">\n",
              "    <div class=\"colab-df-container\">\n",
              "      <div>\n",
              "<style scoped>\n",
              "    .dataframe tbody tr th:only-of-type {\n",
              "        vertical-align: middle;\n",
              "    }\n",
              "\n",
              "    .dataframe tbody tr th {\n",
              "        vertical-align: top;\n",
              "    }\n",
              "\n",
              "    .dataframe thead th {\n",
              "        text-align: right;\n",
              "    }\n",
              "</style>\n",
              "<table border=\"1\" class=\"dataframe\">\n",
              "  <thead>\n",
              "    <tr style=\"text-align: right;\">\n",
              "      <th></th>\n",
              "      <th>Hours</th>\n",
              "      <th>Scores</th>\n",
              "    </tr>\n",
              "  </thead>\n",
              "  <tbody>\n",
              "    <tr>\n",
              "      <th>0</th>\n",
              "      <td>2.5</td>\n",
              "      <td>21</td>\n",
              "    </tr>\n",
              "    <tr>\n",
              "      <th>1</th>\n",
              "      <td>5.1</td>\n",
              "      <td>47</td>\n",
              "    </tr>\n",
              "    <tr>\n",
              "      <th>2</th>\n",
              "      <td>3.2</td>\n",
              "      <td>27</td>\n",
              "    </tr>\n",
              "    <tr>\n",
              "      <th>3</th>\n",
              "      <td>8.5</td>\n",
              "      <td>75</td>\n",
              "    </tr>\n",
              "    <tr>\n",
              "      <th>4</th>\n",
              "      <td>3.5</td>\n",
              "      <td>30</td>\n",
              "    </tr>\n",
              "  </tbody>\n",
              "</table>\n",
              "</div>\n",
              "      <button class=\"colab-df-convert\" onclick=\"convertToInteractive('df-8ade1baf-929b-494b-a966-66ac75a85fb4')\"\n",
              "              title=\"Convert this dataframe to an interactive table.\"\n",
              "              style=\"display:none;\">\n",
              "        \n",
              "  <svg xmlns=\"http://www.w3.org/2000/svg\" height=\"24px\"viewBox=\"0 0 24 24\"\n",
              "       width=\"24px\">\n",
              "    <path d=\"M0 0h24v24H0V0z\" fill=\"none\"/>\n",
              "    <path d=\"M18.56 5.44l.94 2.06.94-2.06 2.06-.94-2.06-.94-.94-2.06-.94 2.06-2.06.94zm-11 1L8.5 8.5l.94-2.06 2.06-.94-2.06-.94L8.5 2.5l-.94 2.06-2.06.94zm10 10l.94 2.06.94-2.06 2.06-.94-2.06-.94-.94-2.06-.94 2.06-2.06.94z\"/><path d=\"M17.41 7.96l-1.37-1.37c-.4-.4-.92-.59-1.43-.59-.52 0-1.04.2-1.43.59L10.3 9.45l-7.72 7.72c-.78.78-.78 2.05 0 2.83L4 21.41c.39.39.9.59 1.41.59.51 0 1.02-.2 1.41-.59l7.78-7.78 2.81-2.81c.8-.78.8-2.07 0-2.86zM5.41 20L4 18.59l7.72-7.72 1.47 1.35L5.41 20z\"/>\n",
              "  </svg>\n",
              "      </button>\n",
              "      \n",
              "  <style>\n",
              "    .colab-df-container {\n",
              "      display:flex;\n",
              "      flex-wrap:wrap;\n",
              "      gap: 12px;\n",
              "    }\n",
              "\n",
              "    .colab-df-convert {\n",
              "      background-color: #E8F0FE;\n",
              "      border: none;\n",
              "      border-radius: 50%;\n",
              "      cursor: pointer;\n",
              "      display: none;\n",
              "      fill: #1967D2;\n",
              "      height: 32px;\n",
              "      padding: 0 0 0 0;\n",
              "      width: 32px;\n",
              "    }\n",
              "\n",
              "    .colab-df-convert:hover {\n",
              "      background-color: #E2EBFA;\n",
              "      box-shadow: 0px 1px 2px rgba(60, 64, 67, 0.3), 0px 1px 3px 1px rgba(60, 64, 67, 0.15);\n",
              "      fill: #174EA6;\n",
              "    }\n",
              "\n",
              "    [theme=dark] .colab-df-convert {\n",
              "      background-color: #3B4455;\n",
              "      fill: #D2E3FC;\n",
              "    }\n",
              "\n",
              "    [theme=dark] .colab-df-convert:hover {\n",
              "      background-color: #434B5C;\n",
              "      box-shadow: 0px 1px 3px 1px rgba(0, 0, 0, 0.15);\n",
              "      filter: drop-shadow(0px 1px 2px rgba(0, 0, 0, 0.3));\n",
              "      fill: #FFFFFF;\n",
              "    }\n",
              "  </style>\n",
              "\n",
              "      <script>\n",
              "        const buttonEl =\n",
              "          document.querySelector('#df-8ade1baf-929b-494b-a966-66ac75a85fb4 button.colab-df-convert');\n",
              "        buttonEl.style.display =\n",
              "          google.colab.kernel.accessAllowed ? 'block' : 'none';\n",
              "\n",
              "        async function convertToInteractive(key) {\n",
              "          const element = document.querySelector('#df-8ade1baf-929b-494b-a966-66ac75a85fb4');\n",
              "          const dataTable =\n",
              "            await google.colab.kernel.invokeFunction('convertToInteractive',\n",
              "                                                     [key], {});\n",
              "          if (!dataTable) return;\n",
              "\n",
              "          const docLinkHtml = 'Like what you see? Visit the ' +\n",
              "            '<a target=\"_blank\" href=https://colab.research.google.com/notebooks/data_table.ipynb>data table notebook</a>'\n",
              "            + ' to learn more about interactive tables.';\n",
              "          element.innerHTML = '';\n",
              "          dataTable['output_type'] = 'display_data';\n",
              "          await google.colab.output.renderOutput(dataTable, element);\n",
              "          const docLink = document.createElement('div');\n",
              "          docLink.innerHTML = docLinkHtml;\n",
              "          element.appendChild(docLink);\n",
              "        }\n",
              "      </script>\n",
              "    </div>\n",
              "  </div>\n",
              "  "
            ]
          },
          "metadata": {},
          "execution_count": 4
        }
      ]
    },
    {
      "cell_type": "code",
      "source": [
        "df.shape\n",
        "#There are only 25 rows and two columns in the dataset"
      ],
      "metadata": {
        "colab": {
          "base_uri": "https://localhost:8080/"
        },
        "id": "k5RLWRNp6qJu",
        "outputId": "b611f4ea-70c1-4568-b476-2ec8f6a1d244"
      },
      "execution_count": 6,
      "outputs": [
        {
          "output_type": "execute_result",
          "data": {
            "text/plain": [
              "(25, 2)"
            ]
          },
          "metadata": {},
          "execution_count": 6
        }
      ]
    },
    {
      "cell_type": "code",
      "source": [
        "df.info()\n",
        "#This dataset does not contain null values"
      ],
      "metadata": {
        "colab": {
          "base_uri": "https://localhost:8080/"
        },
        "id": "h7LQnvo86vFf",
        "outputId": "f1c0aed7-f801-4c78-d7f2-de9fa88d4c6b"
      },
      "execution_count": 7,
      "outputs": [
        {
          "output_type": "stream",
          "name": "stdout",
          "text": [
            "<class 'pandas.core.frame.DataFrame'>\n",
            "RangeIndex: 25 entries, 0 to 24\n",
            "Data columns (total 2 columns):\n",
            " #   Column  Non-Null Count  Dtype  \n",
            "---  ------  --------------  -----  \n",
            " 0   Hours   25 non-null     float64\n",
            " 1   Scores  25 non-null     int64  \n",
            "dtypes: float64(1), int64(1)\n",
            "memory usage: 528.0 bytes\n"
          ]
        }
      ]
    },
    {
      "cell_type": "code",
      "source": [
        "#Visualization\n",
        "plt.scatter(x = df['Hours'],\n",
        "            y = df['Scores'], \n",
        "            color = 'green') #change the color of the plot\n",
        "\n",
        "plt.xlabel('Hours') #add label as 'Hours' to the x-line\n",
        "plt.ylabel('Scores') #add label as 'Scores' to the y-line\n",
        "plt.title('Hours vs Scores') #add title to the plot\n",
        "\n",
        "plt.show()"
      ],
      "metadata": {
        "colab": {
          "base_uri": "https://localhost:8080/",
          "height": 295
        },
        "id": "i-XDCSDY6zyF",
        "outputId": "72d8dc21-cfa3-4b77-e829-dd65976dc27f"
      },
      "execution_count": 10,
      "outputs": [
        {
          "output_type": "display_data",
          "data": {
            "text/plain": [
              "<Figure size 432x288 with 1 Axes>"
            ],
            "image/png": "[encoded data removed]"
          },
          "metadata": {
            "needs_background": "light"
          }
        }
      ]
    },
    {
      "cell_type": "markdown",
      "source": [
        "We can see that there is a linear relationship between two variables, therefore we can apply a simple linear model such as simple linear regression to this dataset."
      ],
      "metadata": {
        "id": "yQB3U37e9Y6W"
      }
    },
    {
      "cell_type": "markdown",
      "source": [
        "### 3) Data Preparation"
      ],
      "metadata": {
        "id": "DSHz6Gn2--ht"
      }
    },
    {
      "cell_type": "code",
      "source": [
        "x = df['Hours'] #independent variable\n",
        "y = df['Scores'] #dependent variable"
      ],
      "metadata": {
        "id": "xCQ5gZpO94QV"
      },
      "execution_count": 11,
      "outputs": []
    },
    {
      "cell_type": "code",
      "source": [
        "#Split the dataset into two as train and test (80%: train, 20%: test) \n",
        "x_train, x_test, y_train, y_test = sklearn.model_selection.train_test_split(x, y, train_size = 0.8)"
      ],
      "metadata": {
        "id": "CSqZl_Sf_cdL"
      },
      "execution_count": 78,
      "outputs": []
    },
    {
      "cell_type": "code",
      "source": [
        "#Check one of the datasets\n",
        "print(x_train)"
      ],
      "metadata": {
        "colab": {
          "base_uri": "https://localhost:8080/"
        },
        "id": "rqiMtRo_Abln",
        "outputId": "4dca83c9-ec7c-4c4b-9595-8c372a5e4a3e"
      },
      "execution_count": 83,
      "outputs": [
        {
          "output_type": "stream",
          "name": "stdout",
          "text": [
            "0     2.5\n",
            "21    4.8\n",
            "16    2.5\n",
            "19    7.4\n",
            "4     3.5\n",
            "22    3.8\n",
            "20    2.7\n",
            "18    6.1\n",
            "7     5.5\n",
            "5     1.5\n",
            "17    1.9\n",
            "2     3.2\n",
            "9     2.7\n",
            "14    1.1\n",
            "1     5.1\n",
            "10    7.7\n",
            "12    4.5\n",
            "24    7.8\n",
            "8     8.3\n",
            "11    5.9\n",
            "Name: Hours, dtype: float64\n"
          ]
        }
      ]
    },
    {
      "cell_type": "markdown",
      "source": [
        "The train_test_split function shuffled the indexes so that the model can learn better. For further information: https://scikit-learn.org/stable/modules/generated/sklearn.model_selection.train_test_split.html#sklearn.model_selection.train_test_split"
      ],
      "metadata": {
        "id": "iO2MGT_aAoTV"
      }
    },
    {
      "cell_type": "code",
      "source": [
        "x_test.shape\n",
        "#Scikit-learn library will not except the datasets in this shape therefore we will change them into numpy arrays"
      ],
      "metadata": {
        "colab": {
          "base_uri": "https://localhost:8080/"
        },
        "id": "DU_5fCGPBHMK",
        "outputId": "7ce3dc1c-0c96-4e5b-ff80-97bcc74e1d92"
      },
      "execution_count": 84,
      "outputs": [
        {
          "output_type": "execute_result",
          "data": {
            "text/plain": [
              "(5,)"
            ]
          },
          "metadata": {},
          "execution_count": 84
        }
      ]
    },
    {
      "cell_type": "code",
      "source": [
        "x_train = np.array(x_train).reshape(-1,1)\n",
        "x_test  = np.array(x_test).reshape(-1,1)\n",
        "y_train = np.array(y_train).reshape(-1,1)\n",
        "y_test  = np.array(y_test).reshape(-1,1)"
      ],
      "metadata": {
        "id": "xzzmIJ82FU41"
      },
      "execution_count": 85,
      "outputs": []
    },
    {
      "cell_type": "markdown",
      "source": [
        "We write -1 to the first argument of the reshape function when we do not know the new shape of array or we want the function to calculate the shape of new array instead of us. In this case, the value is inferred from the length of the array and remaining dimensions. For further information: https://numpy.org/doc/stable/reference/generated/numpy.reshape.html"
      ],
      "metadata": {
        "id": "lotCQGF2HSIK"
      }
    },
    {
      "cell_type": "code",
      "source": [
        "print(type(x_train)) #check the type of x train set\n",
        "x_train.shape #check the shape of x train set"
      ],
      "metadata": {
        "colab": {
          "base_uri": "https://localhost:8080/"
        },
        "id": "Q9JEaa9aFrV-",
        "outputId": "d4e8eb4a-8e80-4310-dd43-0aedac1d83bf"
      },
      "execution_count": 86,
      "outputs": [
        {
          "output_type": "stream",
          "name": "stdout",
          "text": [
            "<class 'numpy.ndarray'>\n"
          ]
        },
        {
          "output_type": "execute_result",
          "data": {
            "text/plain": [
              "(20, 1)"
            ]
          },
          "metadata": {},
          "execution_count": 86
        }
      ]
    },
    {
      "cell_type": "markdown",
      "source": [
        "### 4) Model Selection and Training"
      ],
      "metadata": {
        "id": "rjqer8fqIfX6"
      }
    },
    {
      "cell_type": "code",
      "source": [
        "lin_model = sklearn.linear_model.LinearRegression()"
      ],
      "metadata": {
        "id": "Nr9ZvcInIe4b"
      },
      "execution_count": 87,
      "outputs": []
    },
    {
      "cell_type": "code",
      "source": [
        "lin_model.fit(x_train, y_train)"
      ],
      "metadata": {
        "colab": {
          "base_uri": "https://localhost:8080/"
        },
        "id": "yttzXUHOF0xG",
        "outputId": "37d7e99b-5ecc-4c5b-b786-fcbb508f8440"
      },
      "execution_count": 89,
      "outputs": [
        {
          "output_type": "execute_result",
          "data": {
            "text/plain": [
              "LinearRegression()"
            ]
          },
          "metadata": {},
          "execution_count": 89
        }
      ]
    },
    {
      "cell_type": "markdown",
      "source": [
        "### 5) Model Evaluation"
      ],
      "metadata": {
        "id": "G6xjnQvDKjv1"
      }
    },
    {
      "cell_type": "code",
      "source": [
        "#Calculate the model predictions for each value in x test set\n",
        "predictions = lin_model.predict(x_test)\n",
        "rounded_preds = np.round_(predictions,0) #round the values"
      ],
      "metadata": {
        "id": "XJRtKwEkKq68"
      },
      "execution_count": 90,
      "outputs": []
    },
    {
      "cell_type": "code",
      "source": [
        "#Print the actual and predicted values\n",
        "for i in range(len(x_test)):\n",
        "  print(f'{i}: Actual: {y_test[i]} - Prediction: {rounded_preds[i]}')"
      ],
      "metadata": {
        "colab": {
          "base_uri": "https://localhost:8080/"
        },
        "id": "i-lLA8FeLK9H",
        "outputId": "d1e62d53-ce8e-440f-9d32-51015fa5bef4"
      },
      "execution_count": 91,
      "outputs": [
        {
          "output_type": "stream",
          "name": "stdout",
          "text": [
            "0: Actual: [95] - Prediction: [91.]\n",
            "1: Actual: [88] - Prediction: [94.]\n",
            "2: Actual: [76] - Prediction: [71.]\n",
            "3: Actual: [42] - Prediction: [34.]\n",
            "4: Actual: [75] - Prediction: [87.]\n"
          ]
        }
      ]
    },
    {
      "cell_type": "code",
      "source": [
        "#Calculate the performance metrics\n",
        "r2   = sklearn.metrics.r2_score(y_test, rounded_preds) #R2\n",
        "mae  = sklearn.metrics.mean_absolute_error(y_test, rounded_preds) #mean absolute error\n",
        "mse  = sklearn.metrics.mean_squared_error(y_test, rounded_preds) #mean squared error\n",
        "rmse = sklearn.metrics.mean_squared_error(y_test, rounded_preds, squared=False) #root mean squared error"
      ],
      "metadata": {
        "id": "nqBmNO49OGgR"
      },
      "execution_count": 92,
      "outputs": []
    },
    {
      "cell_type": "code",
      "source": [
        "print('R2:', r2)\n",
        "print('MAE:', mae)\n",
        "print('MSE:', mse)\n",
        "print('RMSE:', rmse)"
      ],
      "metadata": {
        "colab": {
          "base_uri": "https://localhost:8080/"
        },
        "id": "Km7VffOtOrAz",
        "outputId": "0b049a2f-ebe1-407a-a815-76a0ab8196b3"
      },
      "execution_count": 93,
      "outputs": [
        {
          "output_type": "stream",
          "name": "stdout",
          "text": [
            "R2: 0.8281890523269834\n",
            "MAE: 7.0\n",
            "MSE: 57.0\n",
            "RMSE: 7.54983443527075\n"
          ]
        }
      ]
    },
    {
      "cell_type": "markdown",
      "source": [
        "*   R2 = 0.91 means that our model can predict y value with 91% accuracy.\n",
        "*   MAE = 5.8 means that the average absolute difference between actual values and predicted values is 5.8\n",
        "*   MSE = 44.2 means that the square of the difference between actual values and predicted values is 44.2 so the root of MSE (which called RMSE) is 6.65. \n",
        "\n"
      ],
      "metadata": {
        "id": "BD0_NuITO37F"
      }
    },
    {
      "cell_type": "code",
      "source": [
        "hypothesis = rmse/mae\n",
        "print(hypothesis)"
      ],
      "metadata": {
        "colab": {
          "base_uri": "https://localhost:8080/"
        },
        "id": "KMh6WLOkXYRi",
        "outputId": "7f45ebed-3d25-4ffd-ba88-3659b5ca38e4"
      },
      "execution_count": 94,
      "outputs": [
        {
          "output_type": "stream",
          "name": "stdout",
          "text": [
            "1.07854777646725\n"
          ]
        }
      ]
    },
    {
      "cell_type": "markdown",
      "source": [
        "####*Hypothesis:* As the difference between RMSE and MAE grows, we claim that the estimated values ​​are getting farther away from the actual values ​​or there may be outliers in the data. Because the RMSE is calculated by squaring, and if the absolute value between the forecast data and the actual data is large, it will enlarge it by its square. \n",
        "\n",
        "The difference between rmse and mae is close to 0 and r2 is close to 1, therefore we expect that the model fitted good to the dataset without outliers"
      ],
      "metadata": {
        "id": "_Z30855vXWOL"
      }
    },
    {
      "cell_type": "code",
      "source": [
        "#We can test our hypothesis by plotting the actual and predicted values\n",
        "x_predictions = lin_model.predict(x_train) #predict train set values\n",
        "\n",
        "plt.scatter(x = df['Hours'],\n",
        "            y = df['Scores'], \n",
        "            color = 'green') #change the color of the plot\n",
        "plt.plot(x_train, x_predictions, color = 'red') #put the prediction line to the plot\n",
        "\n",
        "plt.xlabel('Hours') #add label as 'Hours' to the x-line\n",
        "plt.ylabel('Scores') #add label as 'Scores' to the y-line\n",
        "plt.title('Hours vs Scores') #add title to the plot\n",
        "\n",
        "plt.show()"
      ],
      "metadata": {
        "colab": {
          "base_uri": "https://localhost:8080/",
          "height": 295
        },
        "id": "Xz0cxE3MV4aI",
        "outputId": "87c64c97-b46b-4d22-fe69-2d172941052f"
      },
      "execution_count": 95,
      "outputs": [
        {
          "output_type": "display_data",
          "data": {
            "text/plain": [
              "<Figure size 432x288 with 1 Axes>"
            ],
            "image/png": "[encoded data removed]"
          },
          "metadata": {
            "needs_background": "light"
          }
        }
      ]
    },
    {
      "cell_type": "markdown",
      "source": [
        "As we expected, the graph shows us that the model fits well to the data, but before we can take this decision as definitive, we have to consider that the dataset is very small."
      ],
      "metadata": {
        "id": "pBZPBs9nYOkM"
      }
    }
  ]
}
